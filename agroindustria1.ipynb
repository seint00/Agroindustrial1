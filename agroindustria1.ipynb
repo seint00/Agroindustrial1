{
  "nbformat": 4,
  "nbformat_minor": 0,
  "metadata": {
    "colab": {
      "provenance": [],
      "authorship_tag": "ABX9TyNTQ38IovTQ2iRnaczMXqsi",
      "include_colab_link": true
    },
    "kernelspec": {
      "name": "python3",
      "display_name": "Python 3"
    },
    "language_info": {
      "name": "python"
    }
  },
  "cells": [
    {
      "cell_type": "markdown",
      "metadata": {
        "id": "view-in-github",
        "colab_type": "text"
      },
      "source": [
        "<a href=\"https://colab.research.google.com/github/seint00/Agroindustrial1/blob/main/agroindustria1.ipynb\" target=\"_parent\"><img src=\"https://colab.research.google.com/assets/colab-badge.svg\" alt=\"Open In Colab\"/></a>"
      ]
    },
    {
      "cell_type": "code",
      "execution_count": null,
      "metadata": {
        "id": "rUVOuWHA1QCp"
      },
      "outputs": [],
      "source": []
    },
    {
      "cell_type": "code",
      "metadata": {
        "colab": {
          "base_uri": "https://localhost:8080/"
        },
        "id": "e724ae48",
        "outputId": "e6f644c3-a62c-4f6e-f48c-9c0f7e5fc728"
      },
      "source": [
        "def sumar_numeros(num1, num2):\n",
        "  \"\"\"Suma dos números y devuelve el resultado.\"\"\"\n",
        "  return num1 + num2\n",
        "\n",
        "# Ejemplo de uso:\n",
        "numero1 = 5\n",
        "numero2 = 10\n",
        "resultado = sumar_numeros(numero1, numero2)\n",
        "print(f\"La suma de {numero1} y {numero2} es: {resultado}\")"
      ],
      "execution_count": 1,
      "outputs": [
        {
          "output_type": "stream",
          "name": "stdout",
          "text": [
            "La suma de 5 y 10 es: 15\n"
          ]
        }
      ]
    }
  ]
}