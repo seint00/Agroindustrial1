{
  "nbformat": 4,
  "nbformat_minor": 0,
  "metadata": {
    "colab": {
      "provenance": [],
      "authorship_tag": "ABX9TyMdG6iCGuJjlbtmGbYPBI36",
      "include_colab_link": true
    },
    "kernelspec": {
      "name": "python3",
      "display_name": "Python 3"
    },
    "language_info": {
      "name": "python"
    }
  },
  "cells": [
    {
      "cell_type": "markdown",
      "metadata": {
        "id": "view-in-github",
        "colab_type": "text"
      },
      "source": [
        "<a href=\"https://colab.research.google.com/github/seint00/Agroindustrial1/blob/main/agroindustria1.ipynb\" target=\"_parent\"><img src=\"https://colab.research.google.com/assets/colab-badge.svg\" alt=\"Open In Colab\"/></a>"
      ]
    },
    {
      "cell_type": "code",
      "execution_count": null,
      "metadata": {
        "id": "rUVOuWHA1QCp"
      },
      "outputs": [],
      "source": []
    },
    {
      "cell_type": "code",
      "metadata": {
        "colab": {
          "base_uri": "https://localhost:8080/"
        },
        "id": "a6004d5e",
        "outputId": "0e6d2c6d-76f6-445c-a3a1-a75fa10c24bd"
      },
      "source": [
        "# Define two numbers\n",
        "num1 = 5\n",
        "num2 = 10\n",
        "\n",
        "# Calculate their sum\n",
        "sum_result = num1 + num2\n",
        "\n",
        "# Print the result\n",
        "print(f\"The sum of {num1} and {num2} is: {sum_result}\")"
      ],
      "execution_count": 2,
      "outputs": [
        {
          "output_type": "stream",
          "name": "stdout",
          "text": [
            "The sum of 5 and 10 is: 15\n"
          ]
        }
      ]
    },
    {
      "cell_type": "markdown",
      "metadata": {
        "id": "68bacd25"
      },
      "source": [
        "Este código realiza una operación de suma simple en Python:\n",
        "\n",
        "1.  **`# Define two numbers`**: Esta línea es un comentario que explica que las siguientes líneas definirán dos números.\n",
        "2.  **`num1 = 5`**: Asigna el valor `5` a la variable llamada `num1`.\n",
        "3.  **`num2 = 10`**: Asigna el valor `10` a la variable llamada `num2`.\n",
        "4.  **`# Calculate their sum`**: Otro comentario que indica que la siguiente línea calculará la suma.\n",
        "5.  **`sum_result = num1 + num2`**: Suma los valores de `num1` y `num2` y almacena el resultado en una nueva variable llamada `sum_result`.\n",
        "6.  **`# Print the result`**: Un comentario que explica que la siguiente línea imprimirá el resultado.\n",
        "7.  **`print(f\"The sum of {num1} and {num2} is: {sum_result}\")`**: Imprime una cadena de texto en la consola. La `f` antes de la cadena indica que es una \"f-string\", lo que permite insertar los valores de las variables `num1`, `num2` y `sum_result` directamente dentro de la cadena. El resultado impreso será \"The sum of 5 and 10 is: 15\".\n",
        "\n",
        "En resumen, el código define dos variables con valores numéricos, calcula su suma y luego imprime el resultado de la suma de una manera legible."
      ]
    }
  ]
}