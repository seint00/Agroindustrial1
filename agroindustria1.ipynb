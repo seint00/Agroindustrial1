{
  "nbformat": 4,
  "nbformat_minor": 0,
  "metadata": {
    "colab": {
      "provenance": [],
      "authorship_tag": "ABX9TyPQcxLfQilRWA6KlIKoZLps",
      "include_colab_link": true
    },
    "kernelspec": {
      "name": "python3",
      "display_name": "Python 3"
    },
    "language_info": {
      "name": "python"
    }
  },
  "cells": [
    {
      "cell_type": "markdown",
      "metadata": {
        "id": "view-in-github",
        "colab_type": "text"
      },
      "source": [
        "<a href=\"https://colab.research.google.com/github/seint00/Agroindustrial1/blob/main/agroindustria1.ipynb\" target=\"_parent\"><img src=\"https://colab.research.google.com/assets/colab-badge.svg\" alt=\"Open In Colab\"/></a>"
      ]
    },
    {
      "cell_type": "code",
      "execution_count": null,
      "metadata": {
        "id": "rUVOuWHA1QCp"
      },
      "outputs": [],
      "source": []
    },
    {
      "cell_type": "code",
      "metadata": {
        "colab": {
          "base_uri": "https://localhost:8080/"
        },
        "id": "a6004d5e",
        "outputId": "0e6d2c6d-76f6-445c-a3a1-a75fa10c24bd"
      },
      "source": [
        "# Define two numbers\n",
        "num1 = 5\n",
        "num2 = 10\n",
        "\n",
        "# Calculate their sum\n",
        "sum_result = num1 + num2\n",
        "\n",
        "# Print the result\n",
        "print(f\"The sum of {num1} and {num2} is: {sum_result}\")"
      ],
      "execution_count": 2,
      "outputs": [
        {
          "output_type": "stream",
          "name": "stdout",
          "text": [
            "The sum of 5 and 10 is: 15\n"
          ]
        }
      ]
    },
    {
      "cell_type": "markdown",
      "metadata": {
        "id": "68bacd25"
      },
      "source": [
        "Este código realiza una operación de suma simple en Python:\n",
        "\n",
        "1.  **`# Define two numbers`**: Esta línea es un comentario que explica que las siguientes líneas definirán dos números.\n",
        "2.  **`num1 = 5`**: Asigna el valor `5` a la variable llamada `num1`.\n",
        "3.  **`num2 = 10`**: Asigna el valor `10` a la variable llamada `num2`.\n",
        "4.  **`# Calculate their sum`**: Otro comentario que indica que la siguiente línea calculará la suma.\n",
        "5.  **`sum_result = num1 + num2`**: Suma los valores de `num1` y `num2` y almacena el resultado en una nueva variable llamada `sum_result`.\n",
        "6.  **`# Print the result`**: Un comentario que explica que la siguiente línea imprimirá el resultado.\n",
        "7.  **`print(f\"The sum of {num1} and {num2} is: {sum_result}\")`**: Imprime una cadena de texto en la consola. La `f` antes de la cadena indica que es una \"f-string\", lo que permite insertar los valores de las variables `num1`, `num2` y `sum_result` directamente dentro de la cadena. El resultado impreso será \"The sum of 5 and 10 is: 15\".\n",
        "\n",
        "En resumen, el código define dos variables con valores numéricos, calcula su suma y luego imprime el resultado de la suma de una manera legible."
      ]
    },
    {
      "cell_type": "code",
      "metadata": {
        "colab": {
          "base_uri": "https://localhost:8080/"
        },
        "id": "cf9c9047",
        "outputId": "cbebe824-f335-459c-dbb4-2045a687fb66"
      },
      "source": [
        "# Define two numbers\n",
        "a = 20\n",
        "b = 5\n",
        "\n",
        "# Addition\n",
        "sum_result = a + b\n",
        "print(f\"Sum: {a} + {b} = {sum_result}\")\n",
        "\n",
        "# Subtraction\n",
        "difference = a - b\n",
        "print(f\"Difference: {a} - {b} = {difference}\")\n",
        "\n",
        "# Multiplication\n",
        "product = a * b\n",
        "print(f\"Product: {a} * {b} = {product}\")\n",
        "\n",
        "# Division (float division)\n",
        "division_float = a / b\n",
        "print(f\"Division (float): {a} / {b} = {division_float}\")\n",
        "\n",
        "# Integer division (floor division)\n",
        "division_integer = a // b\n",
        "print(f\"Division (integer): {a} // {b} = {division_integer}\")\n",
        "\n",
        "# Modulo (remainder)\n",
        "remainder = a % b\n",
        "print(f\"Remainder: {a} % {b} = {remainder}\")\n",
        "\n",
        "# Exponentiation\n",
        "power = a ** b\n",
        "print(f\"Exponentiation: {a} ** {b} = {power}\")"
      ],
      "execution_count": 3,
      "outputs": [
        {
          "output_type": "stream",
          "name": "stdout",
          "text": [
            "Sum: 20 + 5 = 25\n",
            "Difference: 20 - 5 = 15\n",
            "Product: 20 * 5 = 100\n",
            "Division (float): 20 / 5 = 4.0\n",
            "Division (integer): 20 // 5 = 4\n",
            "Remainder: 20 % 5 = 0\n",
            "Exponentiation: 20 ** 5 = 3200000\n"
          ]
        }
      ]
    },
    {
      "cell_type": "markdown",
      "metadata": {
        "id": "8e10b0ee"
      },
      "source": [
        "Este código realiza varias operaciones aritméticas básicas en Python:\n",
        "\n",
        "*   `# Define two numbers`: Un comentario que indica que se definirán dos variables numéricas a continuación.\n",
        "*   `a = 20`: Asigna el valor entero `20` a la variable `a`.\n",
        "*   `b = 5`: Asigna el valor entero `5` a la variable `b`.\n",
        "*   `# Addition`: Comentario que indica la operación de suma.\n",
        "*   `sum_result = a + b`: Realiza la suma de `a` y `b` (20 + 5) y almacena el resultado (`25`) en la variable `sum_result`.\n",
        "*   `print(f\"Sum: {a} + {b} = {sum_result}\")`: Imprime una f-string que muestra la operación de suma y su resultado: \"Sum: 20 + 5 = 25\".\n",
        "*   `# Subtraction`: Comentario que indica la operación de resta.\n",
        "*   `difference = a - b`: Realiza la resta de `a` y `b` (20 - 5) y almacena el resultado (`15`) en la variable `difference`.\n",
        "*   `print(f\"Difference: {a} - {b} = {difference}\")`: Imprime una f-string que muestra la operación de resta y su resultado: \"Difference: 20 - 5 = 15\".\n",
        "*   `# Multiplication`: Comentario que indica la operación de multiplicación.\n",
        "*   `product = a * b`: Realiza la multiplicación de `a` y `b` (20 * 5) y almacena el resultado (`100`) en la variable `product`.\n",
        "*   `print(f\"Product: {a} * {b} = {product}\")`: Imprime una f-string que muestra la operación de multiplicación y su resultado: \"Product: 20 * 5 = 100\".\n",
        "*   `# Division (float division)`: Comentario que indica la división de punto flotante.\n",
        "*   `division_float = a / b`: Realiza la división de `a` entre `b` (20 / 5) y almacena el resultado (`4.0`) en la variable `division_float`. Esta división siempre devuelve un número de punto flotante.\n",
        "*   `print(f\"Division (float): {a} / {b} = {division_float}\")`: Imprime una f-string que muestra la división de punto flotante y su resultado: \"Division (float): 20 / 5 = 4.0\".\n",
        "*   `# Integer division (floor division)`: Comentario que indica la división entera o de piso.\n",
        "*   `division_integer = a // b`: Realiza la división entera de `a` entre `b` (20 // 5) y almacena el resultado (`4`) en la variable `division_integer`. Esta división descarta la parte fraccionaria y devuelve un número entero.\n",
        "*   `print(f\"Division (integer): {a} // {b} = {division_integer}\")`: Imprime una f-string que muestra la división entera y su resultado: \"Division (integer): 20 // 5 = 4\".\n",
        "*   `# Modulo (remainder)`: Comentario que indica la operación de módulo (residuo).\n",
        "*   `remainder = a % b`: Realiza la operación de módulo de `a` entre `b` (20 % 5) y almacena el residuo (`0`) en la variable `remainder`.\n",
        "*   `print(f\"Remainder: {a} % {b} = {remainder}\")`: Imprime una f-string que muestra la operación de módulo y su resultado: \"Remainder: 20 % 5 = 0\".\n",
        "*   `# Exponentiation`: Comentario que indica la operación de exponenciación (potencia).\n",
        "*   `power = a ** b`: Realiza la exponenciación de `a` elevado a la potencia de `b` (20^5) y almacena el resultado (`3200000`) en la variable `power`.\n",
        "*   `print(f\"Exponentiation: {a} ** {b} = {power}\")`: Imprime una f-string que muestra la operación de exponenciación y su resultado: \"Exponentiation: 20 ** 5 = 3200000\"."
      ]
    }
  ]
}